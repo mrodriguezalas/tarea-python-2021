{
 "cells": [
  {
   "cell_type": "markdown",
   "metadata": {},
   "source": [
    "# Sesión 3 - Lectura y escritura en archivos\n",
    "\n",
    "Python nos permite leer y escribir a archivos de diferentes tipos.\n",
    "\n",
    "Veamos cómo leer y escribir a archivos .txt\n",
    "\n",
    "Python nos presenta con la función open(), esta tiene diferentes métodos\n",
    "\n",
    "\n",
    "'r' - read, abre el archivo, devuelve un error si no existe\n",
    "'a' - append, abre el archivo para escribir al final del archivo (no sobreescribe)\n",
    "'w' - write, escribe sobre el archivo, crea un archivo nuevo si no existe\n",
    "'x' - create, crea un archivo nuevo, retorna un error si el archivo ya existe"
   ]
  },
  {
   "cell_type": "code",
   "execution_count": 15,
   "metadata": {},
   "outputs": [],
   "source": [
    "data = open('planetary_data.txt')"
   ]
  },
  {
   "cell_type": "code",
   "execution_count": 16,
   "metadata": {},
   "outputs": [
    {
     "data": {
      "text/plain": [
       "<_io.TextIOWrapper name='planetary_data.txt' mode='r' encoding='cp1252'>"
      ]
     },
     "execution_count": 16,
     "metadata": {},
     "output_type": "execute_result"
    }
   ],
   "source": [
    "data"
   ]
  },
  {
   "cell_type": "code",
   "execution_count": 17,
   "metadata": {},
   "outputs": [
    {
     "data": {
      "text/plain": [
       "\"\\tï»¿Mercury\\tVenus\\tEarth\\tMars\\tJupiter\\t\\n1\\tMean distance from Sun\\t57.9\\t108.2\\t149.6\\t227.9\\t778.3\\n2\\t(millions of kilometers)\\t\\t\\t\\t\\t\\n3\\tMean distance from Sun\\t36\\t67.24\\t92.9\\t141.71\\t483.88\\n4\\t\\t\\t\\t\\t\\t\\n5\\tPeriod of revolution\\t88 days\\t224.7 days\\t365.2 days\\t687 days\\t11.86 yrs\\n6\\tInclination of axis\\tNear 0Â°\\t3Â°\\t23Â°27'\\t25Â° 12'\\t3Â° 5'\\n7\\tInclination of orbit\\t7Â°\\t3.4Â°\\t0Â°\\t1.9Â°\\t1.3Â°\\n8\\t\\t\\t\\t\\t\\t\\n9\\tEccentricity of orbit\\t0.206\\t0.007\\t0.017\\t0.093\\t0.048\\n10\\tEquatorial diameter\\t4,880\\t12,100\\t12,756\\t6,794\\t142,800\\n11\\t\\t\\t\\t\\t\\t\\n12\\t(miles)\\t3,032.40\\t7,519\\t7,926.20\\t4,194\\t88,736\\n13\\tAtmosphere\\tVirtually\\tCarbon\\tNitrogen\\tCarbon\\tHydrogen\\n14\\t(main components)\\tnone\\tdioxide\\toxygen\\tdioxide\\thelium\""
      ]
     },
     "execution_count": 17,
     "metadata": {},
     "output_type": "execute_result"
    }
   ],
   "source": [
    "data.read()"
   ]
  },
  {
   "cell_type": "code",
   "execution_count": 18,
   "metadata": {},
   "outputs": [
    {
     "data": {
      "text/plain": [
       "'\\tï»¿Mercur'"
      ]
     },
     "execution_count": 18,
     "metadata": {},
     "output_type": "execute_result"
    }
   ],
   "source": [
    "# leer los primeros 10 caracteres\n",
    "data = open('planetary_data.txt')\n",
    "data.read(10)"
   ]
  },
  {
   "cell_type": "code",
   "execution_count": 20,
   "metadata": {},
   "outputs": [
    {
     "data": {
      "text/plain": [
       "'1\\tMean distance from Sun\\t57.9\\t108.2\\t149.6\\t227.9\\t778.3\\n'"
      ]
     },
     "execution_count": 20,
     "metadata": {},
     "output_type": "execute_result"
    }
   ],
   "source": [
    "# Leer lineas\n",
    "data = open('planetary_data.txt')\n",
    "data.readline()\n",
    "# data.readline()"
   ]
  },
  {
   "cell_type": "code",
   "execution_count": 21,
   "metadata": {},
   "outputs": [
    {
     "name": "stdout",
     "output_type": "stream",
     "text": [
      "\tï»¿Mercury\tVenus\tEarth\tMars\tJupiter\t\n",
      "\n",
      "1\tMean distance from Sun\t57.9\t108.2\t149.6\t227.9\t778.3\n",
      "\n",
      "2\t(millions of kilometers)\t\t\t\t\t\n",
      "\n",
      "3\tMean distance from Sun\t36\t67.24\t92.9\t141.71\t483.88\n",
      "\n",
      "4\t\t\t\t\t\t\n",
      "\n",
      "5\tPeriod of revolution\t88 days\t224.7 days\t365.2 days\t687 days\t11.86 yrs\n",
      "\n",
      "6\tInclination of axis\tNear 0Â°\t3Â°\t23Â°27'\t25Â° 12'\t3Â° 5'\n",
      "\n",
      "7\tInclination of orbit\t7Â°\t3.4Â°\t0Â°\t1.9Â°\t1.3Â°\n",
      "\n",
      "8\t\t\t\t\t\t\n",
      "\n",
      "9\tEccentricity of orbit\t0.206\t0.007\t0.017\t0.093\t0.048\n",
      "\n",
      "10\tEquatorial diameter\t4,880\t12,100\t12,756\t6,794\t142,800\n",
      "\n",
      "11\t\t\t\t\t\t\n",
      "\n",
      "12\t(miles)\t3,032.40\t7,519\t7,926.20\t4,194\t88,736\n",
      "\n",
      "13\tAtmosphere\tVirtually\tCarbon\tNitrogen\tCarbon\tHydrogen\n",
      "\n",
      "14\t(main components)\tnone\tdioxide\toxygen\tdioxide\thelium\n"
     ]
    }
   ],
   "source": [
    "# leer linea por linea\n",
    "\n",
    "data = open('planetary_data.txt')\n",
    "for x in data:\n",
    "    print(x)"
   ]
  },
  {
   "cell_type": "code",
   "execution_count": 22,
   "metadata": {},
   "outputs": [],
   "source": [
    "data.close()"
   ]
  },
  {
   "cell_type": "markdown",
   "metadata": {},
   "source": [
    "## Escribir a un archivo existente\n",
    "\n",
    "Utilizando la opción 'a' y 'w' para append y escribir"
   ]
  },
  {
   "cell_type": "code",
   "execution_count": 25,
   "metadata": {},
   "outputs": [],
   "source": [
    "datos = open('append.txt', 'a')\n",
    "datos.write('Este contenido esta unido a lo que ya existe')\n",
    "datos.close()"
   ]
  },
  {
   "cell_type": "code",
   "execution_count": 26,
   "metadata": {},
   "outputs": [
    {
     "data": {
      "text/plain": [
       "'Este contenido esta unido a lo que ya existeEste contenido esta unido a lo que ya existe'"
      ]
     },
     "execution_count": 26,
     "metadata": {},
     "output_type": "execute_result"
    }
   ],
   "source": [
    "datos = open('append.txt', 'r')\n",
    "datos.read()"
   ]
  },
  {
   "cell_type": "code",
   "execution_count": 28,
   "metadata": {},
   "outputs": [
    {
     "data": {
      "text/plain": [
       "24"
      ]
     },
     "execution_count": 28,
     "metadata": {},
     "output_type": "execute_result"
    }
   ],
   "source": [
    "datos = open('append.txt', 'w')\n",
    "datos.write('Sobreescribir contenidos')"
   ]
  },
  {
   "cell_type": "code",
   "execution_count": 30,
   "metadata": {},
   "outputs": [
    {
     "data": {
      "text/plain": [
       "'Sobreescribir contenidos'"
      ]
     },
     "execution_count": 30,
     "metadata": {},
     "output_type": "execute_result"
    }
   ],
   "source": [
    "datos = open('append.txt', 'r')\n",
    "datos.read()"
   ]
  },
  {
   "cell_type": "code",
   "execution_count": 31,
   "metadata": {},
   "outputs": [],
   "source": [
    "datos.close()"
   ]
  },
  {
   "cell_type": "markdown",
   "metadata": {},
   "source": [
    "## Ejercicio 1 - 10 minutos\n",
    "\n",
    "Escriba un código que imprima los números del 1 al 100, línea por línea, a un archivo de texto."
   ]
  }
 ],
 "metadata": {
  "kernelspec": {
   "display_name": "Python 3",
   "language": "python",
   "name": "python3"
  },
  "language_info": {
   "codemirror_mode": {
    "name": "ipython",
    "version": 3
   },
   "file_extension": ".py",
   "mimetype": "text/x-python",
   "name": "python",
   "nbconvert_exporter": "python",
   "pygments_lexer": "ipython3",
   "version": "3.8.5"
  }
 },
 "nbformat": 4,
 "nbformat_minor": 4
}
